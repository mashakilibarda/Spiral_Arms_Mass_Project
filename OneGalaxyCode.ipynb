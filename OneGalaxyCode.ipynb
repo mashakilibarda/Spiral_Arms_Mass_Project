{
 "cells": [
  {
   "cell_type": "code",
   "execution_count": 5,
   "metadata": {
    "execution": {
     "iopub.execute_input": "2023-06-02T18:35:56.387922Z",
     "iopub.status.busy": "2023-06-02T18:35:56.387158Z",
     "iopub.status.idle": "2023-06-02T18:35:56.407164Z",
     "shell.execute_reply": "2023-06-02T18:35:56.404666Z",
     "shell.execute_reply.started": "2023-06-02T18:35:56.387834Z"
    },
    "tags": []
   },
   "outputs": [
    {
     "name": "stdout",
     "output_type": "stream",
     "text": [
      "Marvin and Matplotlib imported. Warnings about missing paths/files are typical, so no need to be concerned\n"
     ]
    }
   ],
   "source": [
    "import marvin\n",
    "marvin.config.download = True\n",
    "marvin.config.release = 'DR17'\n",
    "\n",
    "%matplotlib inline\n",
    "import matplotlib.pyplot as plt\n",
    "import matplotlib.gridspec as gridspec\n",
    "\n",
    "from marvin.tools.vacs import VACs\n",
    "from astropy.io import fits\n",
    "\n",
    "from marvin import config #Needed to fix \"Cube not subscriptable\" when running in Sciserver\n",
    "config.forceDbOff() #Needed to fix \"Cube not subscriptable\" when running in Sciserver\n",
    "\n",
    "print('Marvin and Matplotlib imported. Warnings about missing paths/files are typical, so no need to be concerned')"
   ]
  },
  {
   "cell_type": "code",
   "execution_count": 37,
   "metadata": {
    "execution": {
     "iopub.execute_input": "2023-06-02T20:02:17.482082Z",
     "iopub.status.busy": "2023-06-02T20:02:17.481241Z",
     "iopub.status.idle": "2023-06-02T20:02:22.390256Z",
     "shell.execute_reply": "2023-06-02T20:02:22.388105Z",
     "shell.execute_reply.started": "2023-06-02T20:02:17.482031Z"
    },
    "tags": []
   },
   "outputs": [],
   "source": [
    "pipe3d = 'https://data.sdss.org/sas/dr17/manga/spectro/pipe3d/v3_1_1/3.1.1/8989/manga-8989-1902.Pipe3D.cube.fits.gz'\n",
    "#to get a pipe3D fits file for a specific galaxy change the number after 3.1.1. to the MaNGA plate number and the numbers after manga- with the plateifu value\n",
    "hdu=fits.open(pipe3d)\n",
    "mass=hdu[1].data[19]\n",
    "mangaid = '1-150254' #MaNGA ID of the galaxy\n",
    "maps = marvin.tools.Maps(mangaid)\n",
    "data = maps.vacs.gz3d"
   ]
  },
  {
   "cell_type": "code",
   "execution_count": 9,
   "metadata": {
    "execution": {
     "iopub.execute_input": "2023-06-02T18:37:38.392596Z",
     "iopub.status.busy": "2023-06-02T18:37:38.391696Z",
     "iopub.status.idle": "2023-06-02T18:37:38.407974Z",
     "shell.execute_reply": "2023-06-02T18:37:38.405386Z",
     "shell.execute_reply.started": "2023-06-02T18:37:38.392520Z"
    },
    "tags": []
   },
   "outputs": [],
   "source": [
    "style = {\n",
    "    'lines.linewidth': 1.5,\n",
    "    'font.size': 16.0,\n",
    "    'axes.linewidth': 1.5,\n",
    "    'axes.titlesize': 'large',\n",
    "    'axes.labelsize': 'large',\n",
    "    'xtick.major.size': 6,\n",
    "    'xtick.minor.size': 4,\n",
    "    'xtick.major.width': 1.5,\n",
    "    'xtick.minor.width': 1.5,\n",
    "    'xtick.major.pad': 6,\n",
    "    'xtick.minor.pad': 6,\n",
    "    'xtick.labelsize': 'medium',\n",
    "    'ytick.major.size': 6,\n",
    "    'ytick.minor.size': 4,\n",
    "    'ytick.major.width': 1.5,\n",
    "    'ytick.minor.width': 1.5,\n",
    "    'ytick.major.pad': 6,\n",
    "    'ytick.minor.pad': 6,\n",
    "    'ytick.labelsize': 'medium',\n",
    "    'legend.fancybox': True,\n",
    "    'legend.fontsize': 'small',\n",
    "    'legend.scatterpoints': 5,\n",
    "    'legend.loc': 'best',\n",
    "    'figure.titlesize': 'large',\n",
    "}\n",
    "\n",
    "plt.style.use(style)"
   ]
  },
  {
   "cell_type": "code",
   "execution_count": 39,
   "metadata": {
    "execution": {
     "iopub.execute_input": "2023-06-02T20:03:04.449081Z",
     "iopub.status.busy": "2023-06-02T20:03:04.447567Z",
     "iopub.status.idle": "2023-06-02T20:03:04.955891Z",
     "shell.execute_reply": "2023-06-02T20:03:04.953889Z",
     "shell.execute_reply.started": "2023-06-02T20:03:04.448993Z"
    },
    "tags": []
   },
   "outputs": [
    {
     "data": {
      "text/plain": [
       "<matplotlib.contour.QuadContourSet at 0x7ffb30a16d30>"
      ]
     },
     "execution_count": 39,
     "metadata": {},
     "output_type": "execute_result"
    },
    {
     "data": {
      "image/png": "[encoded data removed]",
      "text/plain": [
       "<Figure size 432x288 with 2 Axes>"
      ]
     },
     "metadata": {
      "needs_background": "light"
     },
     "output_type": "display_data"
    }
   ],
   "source": [
    "# Overlaying the masks as contours on the stellar mass map\n",
    "ax = plt.subplot()\n",
    "plt.imshow(mass,cmap='gray')\n",
    "ax.set_ylim(*ax.get_ylim()[::-1])\n",
    "plt.colorbar()\n",
    "ax.contour(data.spiral_mask_spaxel, levels=[4], zorder=20, colors='C0')\n",
    "ax.contour(data.center_mask_spaxel, levels=[4], zorder=20, colors='C2')"
   ]
  },
  {
   "cell_type": "code",
   "execution_count": null,
   "metadata": {},
   "outputs": [],
   "source": []
  }
 ],
 "metadata": {
  "kernelspec": {
   "display_name": "Python 3.8 (py38)",
   "language": "python",
   "name": "py38"
  },
  "language_info": {
   "codemirror_mode": {
    "name": "ipython",
    "version": 3
   },
   "file_extension": ".py",
   "mimetype": "text/x-python",
   "name": "python",
   "nbconvert_exporter": "python",
   "pygments_lexer": "ipython3",
   "version": "3.8.5"
  }
 },
 "nbformat": 4,
 "nbformat_minor": 4
}
