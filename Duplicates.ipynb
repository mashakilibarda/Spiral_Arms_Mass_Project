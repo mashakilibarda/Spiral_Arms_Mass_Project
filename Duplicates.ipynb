{
 "cells": [
  {
   "cell_type": "code",
   "execution_count": 1,
   "metadata": {
    "execution": {
     "iopub.execute_input": "2023-06-13T20:27:44.097915Z",
     "iopub.status.busy": "2023-06-13T20:27:44.097295Z",
     "iopub.status.idle": "2023-06-13T20:28:13.102595Z",
     "shell.execute_reply": "2023-06-13T20:28:13.099403Z",
     "shell.execute_reply.started": "2023-06-13T20:27:44.097702Z"
    },
    "tags": []
   },
   "outputs": [
    {
     "name": "stderr",
     "output_type": "stream",
     "text": [
      "/home/idies/miniconda3/envs/py38/lib/python3.8/site-packages/marvin/core/exceptions.py:50: UserWarning: cannot initiate Sentry error reporting: [Errno 6] No such device or address.\n",
      "  warnings.warn('cannot initiate Sentry error reporting: {0}.'.format(str(ee)),\n",
      "\u001b[0;34m[INFO]: \u001b[0mNo release version set. Setting default to DR17\n",
      "\u001b[1;33m[WARNING]: \u001b[0m\u001b[0;39mpath /home/idies/workspace/sdss_sas/mangawork/manga/spectro/redux/v3_1_1/drpall-v3_1_1.fits cannot be found. Setting drpall to None.\u001b[0m \u001b[0;36m(MarvinUserWarning)\u001b[0m\n",
      "\u001b[1;33m[WARNING]: \u001b[0m\u001b[0;39mpath /home/idies/workspace/sdss_sas/mangawork/manga/spectro/analysis/v3_1_1/3.1.0/dapall-v3_1_1-3.1.0.fits cannot be found. Setting dapall to None.\u001b[0m \u001b[0;36m(MarvinUserWarning)\u001b[0m\n"
     ]
    },
    {
     "name": "stdout",
     "output_type": "stream",
     "text": [
      "Marvin and Matplotlib imported. Warnings about missing paths/files are typical, so no need to be concerned\n"
     ]
    }
   ],
   "source": [
    "import marvin\n",
    "marvin.config.download = True\n",
    "marvin.config.release = 'DR17'\n",
    "\n",
    "%matplotlib inline\n",
    "import matplotlib.pyplot as plt\n",
    "import matplotlib.gridspec as gridspec\n",
    "import scipy.stats as sci\n",
    "\n",
    "from marvin.tools.vacs import VACs\n",
    "from astropy.io import fits\n",
    "import numpy as np\n",
    "from marvin.tools import Maps\n",
    "from marvin.tools import Cube\n",
    "\n",
    "from marvin import config #Needed to fix \"Cube not subscriptable\" when running in Sciserver\n",
    "config.forceDbOff() #Needed to fix \"Cube not subscriptable\" when running in Sciserver\n",
    "\n",
    "print('Marvin and Matplotlib imported. Warnings about missing paths/files are typical, so no need to be concerned')"
   ]
  },
  {
   "cell_type": "code",
   "execution_count": 13,
   "metadata": {
    "execution": {
     "iopub.execute_input": "2023-06-13T20:37:23.986574Z",
     "iopub.status.busy": "2023-06-13T20:37:23.985790Z",
     "iopub.status.idle": "2023-06-13T20:37:33.455244Z",
     "shell.execute_reply": "2023-06-13T20:37:33.453027Z",
     "shell.execute_reply.started": "2023-06-13T20:37:23.986522Z"
    },
    "tags": []
   },
   "outputs": [],
   "source": [
    "selection = 'full_initial_sample.fits'\n",
    "hdu = fits.open(selection)\n",
    "data = hdu[1].data\n",
    "\n",
    "mangaplifu = []\n",
    "\n",
    "for galaxy in range(len(data)):\n",
    "    if data[galaxy]['GZ_SPIRAL_VOTES']/data[galaxy]['GZ_TOTAL_CLASSIFICATIONS']>0.2 and data[galaxy]['IFUDESIGNSIZE_1']>0 and data[galaxy]['nsa_elpetro_ba']>0.5:\n",
    "        mangaplifu.append(str(data[galaxy]['plateifu_1']))\n",
    "        \n",
    "hdu.close()\n",
    "#selecting galaxies with spiral arms using GZ3D metadata"
   ]
  },
  {
   "cell_type": "code",
   "execution_count": 115,
   "metadata": {
    "execution": {
     "iopub.execute_input": "2023-06-13T21:48:48.126993Z",
     "iopub.status.busy": "2023-06-13T21:48:48.126247Z",
     "iopub.status.idle": "2023-06-13T21:48:49.503343Z",
     "shell.execute_reply": "2023-06-13T21:48:49.501217Z",
     "shell.execute_reply.started": "2023-06-13T21:48:48.126941Z"
    },
    "tags": []
   },
   "outputs": [],
   "source": [
    "file=np.loadtxt('arm_vs_interarm.txt',dtype=str,unpack=True)"
   ]
  },
  {
   "cell_type": "code",
   "execution_count": 116,
   "metadata": {
    "execution": {
     "iopub.execute_input": "2023-06-13T21:49:04.512582Z",
     "iopub.status.busy": "2023-06-13T21:49:04.511557Z",
     "iopub.status.idle": "2023-06-13T21:49:04.533629Z",
     "shell.execute_reply": "2023-06-13T21:49:04.531167Z",
     "shell.execute_reply.started": "2023-06-13T21:49:04.512509Z"
    },
    "tags": []
   },
   "outputs": [],
   "source": [
    "twentyfifths=[]\n",
    "for i in range(0,len(file[0]),25):\n",
    "    twentyfifths.append(file[0][i])"
   ]
  },
  {
   "cell_type": "code",
   "execution_count": 117,
   "metadata": {
    "execution": {
     "iopub.execute_input": "2023-06-13T21:49:07.107577Z",
     "iopub.status.busy": "2023-06-13T21:49:07.106569Z",
     "iopub.status.idle": "2023-06-13T21:49:08.601201Z",
     "shell.execute_reply": "2023-06-13T21:49:08.599400Z",
     "shell.execute_reply.started": "2023-06-13T21:49:07.107493Z"
    },
    "tags": []
   },
   "outputs": [
    {
     "name": "stdout",
     "output_type": "stream",
     "text": [
      "[]\n"
     ]
    }
   ],
   "source": [
    "l=[]\n",
    "for i in range(len(twentyfifths)):\n",
    "    for j in range(1,len(twentyfifths)):\n",
    "        if twentyfifths[i]==twentyfifths[i-j]:\n",
    "            l.append(twentyfifths[i])\n",
    "print(l)"
   ]
  },
  {
   "cell_type": "code",
   "execution_count": 107,
   "metadata": {
    "execution": {
     "iopub.execute_input": "2023-06-13T21:42:27.087894Z",
     "iopub.status.busy": "2023-06-13T21:42:27.087164Z",
     "iopub.status.idle": "2023-06-13T21:42:29.311379Z",
     "shell.execute_reply": "2023-06-13T21:42:29.309340Z",
     "shell.execute_reply.started": "2023-06-13T21:42:27.087804Z"
    },
    "tags": []
   },
   "outputs": [
    {
     "name": "stdout",
     "output_type": "stream",
     "text": [
      "['9893-12701', '12696-12704', '12696-12705', '12073-12703', '12772-12701', '11970-12702', '9187-12705', '12678-9102', '12678-12705', '12679-6104', '12679-12705']\n"
     ]
    }
   ],
   "source": [
    "li=[]\n",
    "for i in mangaplifu:\n",
    "    if str(i) not in file[0]:\n",
    "        li.append(i)\n",
    "print(li)"
   ]
  },
  {
   "cell_type": "code",
   "execution_count": 118,
   "metadata": {
    "execution": {
     "iopub.execute_input": "2023-06-13T21:49:24.105489Z",
     "iopub.status.busy": "2023-06-13T21:49:24.104654Z",
     "iopub.status.idle": "2023-06-13T21:49:24.164365Z",
     "shell.execute_reply": "2023-06-13T21:49:24.162105Z",
     "shell.execute_reply.started": "2023-06-13T21:49:24.105434Z"
    },
    "tags": []
   },
   "outputs": [],
   "source": [
    "ar=file[2].astype('float')"
   ]
  },
  {
   "cell_type": "code",
   "execution_count": 121,
   "metadata": {
    "execution": {
     "iopub.execute_input": "2023-06-13T21:50:16.567227Z",
     "iopub.status.busy": "2023-06-13T21:50:16.566485Z",
     "iopub.status.idle": "2023-06-13T21:50:16.604159Z",
     "shell.execute_reply": "2023-06-13T21:50:16.602238Z",
     "shell.execute_reply.started": "2023-06-13T21:50:16.567175Z"
    },
    "tags": []
   },
   "outputs": [
    {
     "name": "stdout",
     "output_type": "stream",
     "text": [
      "726\n"
     ]
    }
   ],
   "source": [
    "for i in range(25,len(file[2]),25):\n",
    "    if np.isnan(ar[i-25:i]).sum()>=20:"
   ]
  },
  {
   "cell_type": "code",
   "execution_count": 129,
   "metadata": {
    "execution": {
     "iopub.execute_input": "2023-06-13T21:59:45.543989Z",
     "iopub.status.busy": "2023-06-13T21:59:45.543168Z",
     "iopub.status.idle": "2023-06-13T21:59:45.754908Z",
     "shell.execute_reply": "2023-06-13T21:59:45.752951Z",
     "shell.execute_reply.started": "2023-06-13T21:59:45.543933Z"
    },
    "tags": []
   },
   "outputs": [],
   "source": [
    "rad=file[1].astype('float')\n",
    "m_ma=file[2].astype('float')\n",
    "m_mi=file[3].astype('float')\n",
    "f=file[4].astype('float')"
   ]
  },
  {
   "cell_type": "code",
   "execution_count": 132,
   "metadata": {
    "execution": {
     "iopub.execute_input": "2023-06-13T22:02:06.191191Z",
     "iopub.status.busy": "2023-06-13T22:02:06.190089Z",
     "iopub.status.idle": "2023-06-13T22:02:06.796024Z",
     "shell.execute_reply": "2023-06-13T22:02:06.793828Z",
     "shell.execute_reply.started": "2023-06-13T22:02:06.191137Z"
    },
    "tags": []
   },
   "outputs": [
    {
     "data": {
      "text/plain": [
       "Text(0, 0.5, 'Excess of Stellar Mass in Spiral Arms')"
      ]
     },
     "execution_count": 132,
     "metadata": {},
     "output_type": "execute_result"
    },
    {
     "data": {
      "image/png": "[encoded data removed]",
      "text/plain": [
       "<Figure size 432x288 with 1 Axes>"
      ]
     },
     "metadata": {
      "needs_background": "light"
     },
     "output_type": "display_data"
    }
   ],
   "source": [
    "#a single average plot for the sample of galaxies. \n",
    "\n",
    "plt.scatter(rad,f)\n",
    "plt.plot(rad,f)\n",
    "\n",
    "plt.xlabel(r'$ R/R_{eff}$')\n",
    "plt.ylabel('Excess of Stellar Mass in Spiral Arms')"
   ]
  },
  {
   "cell_type": "code",
   "execution_count": null,
   "metadata": {},
   "outputs": [],
   "source": []
  }
 ],
 "metadata": {
  "kernelspec": {
   "display_name": "Python 3.8 (py38)",
   "language": "python",
   "name": "py38"
  },
  "language_info": {
   "codemirror_mode": {
    "name": "ipython",
    "version": 3
   },
   "file_extension": ".py",
   "mimetype": "text/x-python",
   "name": "python",
   "nbconvert_exporter": "python",
   "pygments_lexer": "ipython3",
   "version": "3.8.5"
  }
 },
 "nbformat": 4,
 "nbformat_minor": 4
}
