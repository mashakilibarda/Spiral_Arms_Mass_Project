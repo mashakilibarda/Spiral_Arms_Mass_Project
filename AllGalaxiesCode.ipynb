{
 "cells": [
  {
   "cell_type": "code",
   "execution_count": 1,
   "metadata": {
    "execution": {
     "iopub.execute_input": "2024-05-20T21:07:51.661025Z",
     "iopub.status.busy": "2024-05-20T21:07:51.659533Z",
     "iopub.status.idle": "2024-05-20T21:08:22.769461Z",
     "shell.execute_reply": "2024-05-20T21:08:22.767406Z",
     "shell.execute_reply.started": "2024-05-20T21:07:51.660970Z"
    },
    "tags": []
   },
   "outputs": [
    {
     "name": "stderr",
     "output_type": "stream",
     "text": [
      "/home/idies/miniconda3/envs/py38/lib/python3.8/site-packages/marvin/core/exceptions.py:50: UserWarning: cannot initiate Sentry error reporting: [Errno 6] No such device or address.\n",
      "  warnings.warn('cannot initiate Sentry error reporting: {0}.'.format(str(ee)),\n",
      "\u001b[0;34m[INFO]: \u001b[0mNo release version set. Setting default to DR17\n",
      "\u001b[1;33m[WARNING]: \u001b[0m\u001b[0;39mpath /home/idies/workspace/sdss_sas/mangawork/manga/spectro/redux/v3_1_1/drpall-v3_1_1.fits cannot be found. Setting drpall to None.\u001b[0m \u001b[0;36m(MarvinUserWarning)\u001b[0m\n",
      "\u001b[1;33m[WARNING]: \u001b[0m\u001b[0;39mpath /home/idies/workspace/sdss_sas/mangawork/manga/spectro/analysis/v3_1_1/3.1.0/dapall-v3_1_1-3.1.0.fits cannot be found. Setting dapall to None.\u001b[0m \u001b[0;36m(MarvinUserWarning)\u001b[0m\n"
     ]
    },
    {
     "name": "stdout",
     "output_type": "stream",
     "text": [
      "Marvin and Matplotlib imported. Warnings about missing paths/files are typical, so no need to be concerned\n"
     ]
    }
   ],
   "source": [
    "import marvin\n",
    "marvin.config.download = True\n",
    "marvin.config.release = 'DR17'\n",
    "\n",
    "%matplotlib inline\n",
    "import matplotlib.pyplot as plt\n",
    "import matplotlib.gridspec as gridspec\n",
    "import scipy.stats as sci\n",
    "import math\n",
    "\n",
    "from marvin.tools.vacs import VACs\n",
    "from astropy.io import fits\n",
    "import numpy as np\n",
    "from marvin.tools import Maps\n",
    "from marvin.tools import Cube\n",
    "\n",
    "from marvin import config #Needed to fix \"Cube not subscriptable\" when running in Sciserver\n",
    "config.forceDbOff() #Needed to fix \"Cube not subscriptable\" when running in Sciserver\n",
    "\n",
    "print('Marvin and Matplotlib imported. Warnings about missing paths/files are typical, so no need to be concerned')\n",
    "#importing necessary functions"
   ]
  },
  {
   "cell_type": "code",
   "execution_count": 3,
   "metadata": {
    "execution": {
     "iopub.execute_input": "2024-05-20T21:13:14.904983Z",
     "iopub.status.busy": "2024-05-20T21:13:14.903848Z",
     "iopub.status.idle": "2024-05-20T21:13:16.143415Z",
     "shell.execute_reply": "2024-05-20T21:13:16.140552Z",
     "shell.execute_reply.started": "2024-05-20T21:13:14.904926Z"
    },
    "tags": []
   },
   "outputs": [],
   "source": [
    "selection = 'all_theory.fits'\n",
    "hdu = fits.open(selection)\n",
    "data = hdu[1].data\n",
    "#importing sample data"
   ]
  },
  {
   "cell_type": "code",
   "execution_count": 4,
   "metadata": {
    "execution": {
     "iopub.execute_input": "2024-05-20T21:15:26.837234Z",
     "iopub.status.busy": "2024-05-20T21:15:26.836350Z",
     "iopub.status.idle": "2024-05-20T21:15:29.216398Z",
     "shell.execute_reply": "2024-05-20T21:15:29.214357Z",
     "shell.execute_reply.started": "2024-05-20T21:15:26.837179Z"
    },
    "tags": []
   },
   "outputs": [],
   "source": [
    "non_usable=np.array(['8077-12705', '9192-12702', '7815-1902', '12088-12705', '8087-9102', '8088-12705', '10215-12702', '11742-12702', '10213-1902', '10496-1901', '8240-6104', '11745-1902', '11745-12703', '8564-12704', '8555-12705', '12673-9102', '8550-12705', '8602-6103', '11942-9102', '11941-3704', '11943-3703', '8978-3701', '11947-6103', '8252-12705', '8252-3703', '8252-9102', '12490-3701', '11958-3704', '11958-12705', '8148-9102', '8948-12703', '8948-9101', '8948-12702', '8992-6101', '8947-1901', '8991-12705', '8991-12701', '11957-12705', '11956-12704', '11954-12701', '11831-6101', '11954-12702', '8146-6103', '9184-3702', '12068-3704', '12068-9102', '11868-12703', '11984-6101', '12651-9101', '8253-9102', '12069-12704', '8455-9101', '8254-12703', '8256-6101', '8993-9102', '8257-6101', '8466-12704', '8466-12702', '8257-9102', '8946-3701', '8945-6104', '10507-9102', '8260-12703', '8465-3701', '8324-9101', '8318-12704', '8318-6104', '8465-9102', '8465-12705', '8319-3701', '8330-9101', '12071-3704', '8656-12705', '8616-12702', '8616-6102', '12518-3701', '9894-6102', '9894-6104', '9892-12705', '9050-12704', '9088-6101', '9046-6103', '9048-9101', '9046-12702', '8655-12701', '9496-12705', '9508-3704', '8939-12703', '8152-9102', '8337-6101', '12769-12703', '9050-3704', '11017-12705', '11017-12703', '11017-9101', '11017-12701', '11830-6104', '9868-6102', '9033-9102', '8980-6104', '9872-12701', '8552-3704', '9871-12704', '9027-12704', '9025-1902', '11984-12703', '11952-12701', '11952-12703', '12073-12703', '12772-12705', '11970-12704', '11970-12705', '12074-12705', '11965-12705', '11963-12702', '11960-12701', '11974-12702', '8134-9102', '8719-6103', '8567-1902', '8716-12705', '12078-12705', '8723-6101', '12079-3701', '10223-3703', '10224-6101', '11969-12701', '12082-12702', '8077-6104', '8153-12705', '9193-9101', '11833-12702', '11832-3704', '9186-6101', '8623-9101', '7964-12701', '8616-9102', '10842-3702', '10842-12702', '8252-12704', '9000-6102', '11761-12701', '11863-12704', '11021-12704', '11016-12701', '9867-9101', '9033-3703', '9034-12701', '9870-3702', '9038-3702', '8145-1901', '8938-3701', '10220-9101', '8593-6104', '8485-12701', '8979-6104', '8979-3702', '8600-12701', '8550-12704', '8602-12705', '12682-9102', '8440-12701', '8250-6102', '8942-12704', '11746-3704', '8610-12704', '8610-6103', '9509-12703', '9509-6104', '9484-9101', '9484-6103', '8249-6101', '12510-9101', '8726-12701', '8940-12701', '9504-3703', '8459-12705', '8456-12701', '8456-12704', '8452-12701', '8452-6102', '8989-6102', '8989-9101', '8989-3704', '8445-12703', '8093-6104', '8093-9102', '11743-12703', '10216-6101', '9488-12705', '9493-1902', '8450-9101', '8310-3702', '8438-1902', '9033-3704', '9888-12701', '9886-3704', '8609-12701', '8600-3704', '8588-9102', '9883-3701', '9196-12701', '8075-12705', '9195-3703', '10226-12705', '10226-6101', '10226-6104', '9194-12703', '8082-12701', '8936-3703', '10492-9101', '9501-12705', '9500-12701', '10501-9102', '10512-12701', '11748-6101', '10841-12701', '11752-6104', '10516-1901', '10516-9101', '10518-12705', '11865-12704', '12490-3703', '8945-12702', '8989-3703', '12489-12703', '8263-1901', '8931-12702', '8935-12703', '9876-6101', '12488-12705', '10505-9101', '8152-12701', '11751-1901', '9087-12701', '8134-12705', '8080-6101', '8712-12704', '9492-6101', '9492-12704', '10218-3703', '9490-6101', '8085-3704', '9490-12704', '9495-3703', '9494-9102', '9493-3704', '8155-6102', '9502-12703', '9502-6103', '9502-12702', '9493-12704', '8987-3703', '12487-12705', '10838-12701', '8944-3703', '8944-9102', '12624-12702', '8091-9101', '8988-12705', '8981-6101', '11826-12704', '12483-6103', '8465-6102', '11830-3702', '8325-12705', '9871-6101', '8611-12704', '8611-12702', '11020-6102', '8626-3703', '11012-12702', '8547-6102', '8595-12702', '8592-6102', '8597-12704', '9865-12702', '8597-6103', '8596-12702', '8596-12705', '8596-6101', '8488-3702', '9035-3704', '9037-12703', '8313-12703', '8313-6101', '12667-6101', '11940-9102', '8332-12701', '8332-6103', '12518-12705', '8441-6104', '8253-6104', '8255-6102', '8611-12705', '8259-12704', '11755-12703', '11953-3702', '8317-12704', '8317-6102', '8331-12705', '8337-3703', '8334-12703', '8334-12705', '12066-3704', '8652-6103', '8570-1901', '8095-12701', '8446-12705', '12620-12704', '8985-12701', '12622-12703', '12622-3703', '8444-12703', '9882-6104', '8443-6102', '8140-12701', '8137-9102', '9886-12701', '8562-9102', '11976-3701', '8609-12702', '9087-12705', '8718-12703', '9487-12702', '9487-9101', '10495-1901', '8722-12702', '8931-9101', '11006-3702', '8932-3701', '11014-12705', '11939-3701', '10495-3702', '11004-12701', '9863-12703', '11004-12703', '8935-6104', '9879-3703', '9878-12701', '8983-3703', '11743-12702', '11743-6104', '8241-3703', '8245-1901', '8245-6102', '8723-12705', '8244-6101', '8438-9101', '8438-12704', '10001-6102', '8248-12705', '8448-12705', '8449-12702', '8450-6103', '8952-6103', '12624-12705', '9045-12702', '8589-12705', '9041-3702', '8546-1902', '9090-12705', '11948-12703', '8588-12702', '12652-1902', '9186-6103', '8626-12702', '9486-12702', '10496-6102', '10213-12705', '10512-3702', '10514-12703', '10515-3701', '10516-12704', '10516-6104', '10520-6102', '12495-6102', '10503-12701', '12495-6101', '11828-12704', '8563-12705', '8562-12704', '8562-3702', '8484-12702', '8548-12702', '8549-12703', '8484-3701', '9026-3703', '9026-9101', '8588-12703', '9187-12705', '9190-6102', '8311-3704', '8320-6102', '8320-12705', '11009-12701', '9878-6101', '8311-12705', '8320-6101', '9882-12701', '8320-3702', '9881-6102', '9882-12702', '11754-12705', '8482-12701', '8482-12705', '10513-12704', '8715-12701', '8719-3701', '10215-3702', '9092-12703', '11834-12705', '12651-3702', '8617-12704', '12074-12704', '8721-6103', '9503-12703', '9502-3701', '9496-3702', '8614-6102', '12083-9102', '8602-12701', '11941-12702', '8088-3703', '8483-12704', '9487-9102', '11755-6103', '10507-12705', '10508-6104', '10492-12705', '8723-12704', '10498-12705', '10501-12703', '8250-12704', '8452-9102', '10509-6102', '11750-6103', '8329-6104', '11830-12702', '12490-3704','8988-6104','8986-6104','9886-12703','8723-12701','8566-12702','9512-12704','12084-6104', '9486-12701', '8249-6102', '12490-6103', '9504-9101', '8994-12702', '9001-6104', '8992-6103', '11957-9101', '12652-12701', '11868-6104', '12068-9101', '8455-3701', '12069-6102', '8946-6101', '8464-12704', '8318-12703', '8319-12702', '12071-12701', '9894-12702', '10221-12705', '9508-6104', '10499-3702', '8462-6101', '9089-6104', '8657-6101', '8567-9102', '11969-12702', '8078-6103', '11746-3701', '12510-9102', '8450-12701', '9187-12704', '11019-12705', '9030-3702', '10501-6102', '10500-3702', '8712-12702', '9501-6102', '9500-9102', '8156-12702', '8984-12704', '11948-9101', '9094-6104', '9505-3701', '12622-9102', '9195-9101', '9195-3704', '9513-9101', '8135-12702', '9889-1902', '9487-12701', '9881-3702', '8592-3703', '10517-3704', '9187-9101', '8727-12702', '9186-3703', '11743-3701', '11949-9101', '11838-3702'])\n",
    "\n",
    "for i in range(len(data)):\n",
    "    if data[i]['mngtarg3_1']!=0:\n",
    "        non_usable=np.append(non_usable,str(data[i]['plateifu_1']))\n",
    "#selecting galaxies in the third MaNGA targets sample"
   ]
  },
  {
   "cell_type": "code",
   "execution_count": 5,
   "metadata": {
    "execution": {
     "iopub.execute_input": "2024-05-20T21:15:32.925437Z",
     "iopub.status.busy": "2024-05-20T21:15:32.924870Z",
     "iopub.status.idle": "2024-05-20T21:15:32.935155Z",
     "shell.execute_reply": "2024-05-20T21:15:32.933496Z",
     "shell.execute_reply.started": "2024-05-20T21:15:32.925373Z"
    },
    "tags": []
   },
   "outputs": [],
   "source": [
    "#Calculate fractional mass error\n",
    "def massexcess(sigmass_ma, sigmass_mi, f):\n",
    "\n",
    "    err_ma = sigmass_ma #std, and this is the error on log of value, hence the same as the fractional error on the value. \n",
    "    err_mi = sigmass_mi\n",
    "    err_f = f*np.sqrt(err_ma**2 + 2*err_mi**2) # err_mi is twice becauses it's in the denominator\n",
    "\n",
    "    return err_f"
   ]
  },
  {
   "cell_type": "code",
   "execution_count": 6,
   "metadata": {
    "execution": {
     "iopub.execute_input": "2024-05-20T21:15:32.939429Z",
     "iopub.status.busy": "2024-05-20T21:15:32.938867Z",
     "iopub.status.idle": "2024-05-20T21:15:32.967760Z",
     "shell.execute_reply": "2024-05-20T21:15:32.965717Z",
     "shell.execute_reply.started": "2024-05-20T21:15:32.939368Z"
    },
    "tags": []
   },
   "outputs": [],
   "source": [
    "plateifus=data['plateifu_1']\n",
    "sig_ma=data['sigmass_ma'].astype('float')\n",
    "sig_mi=data['sigmass_mi'].astype('float')\n",
    "fun=data['f'].astype('float')\n",
    "cnt_ma=data['count_ma'].astype('float')\n",
    "cnt_mi=data['count_mi'].astype('float')\n",
    "err_f=np.absolute(massexcess(sig_ma,sig_mi,fun))\n",
    "z=data['nsa_redshift'].astype('float')\n",
    "r=data['radius'].astype('float')\n",
    "dip=data['dip'].astype('float')\n",
    "#getting fractional mass errors for the sample"
   ]
  },
  {
   "cell_type": "code",
   "execution_count": 7,
   "metadata": {
    "execution": {
     "iopub.execute_input": "2024-05-20T21:15:32.970589Z",
     "iopub.status.busy": "2024-05-20T21:15:32.970020Z",
     "iopub.status.idle": "2024-05-20T21:15:43.002647Z",
     "shell.execute_reply": "2024-05-20T21:15:43.000502Z",
     "shell.execute_reply.started": "2024-05-20T21:15:32.970543Z"
    },
    "tags": []
   },
   "outputs": [],
   "source": [
    "usable=np.array([])\n",
    "rad=np.array([])\n",
    "m_ma=np.array([])\n",
    "m_mi=np.array([])\n",
    "sigmass_ma=np.array([])\n",
    "sigmass_mi=np.array([])\n",
    "count_ma=np.array([])\n",
    "count_mi=np.array([])\n",
    "redshift=np.array([])\n",
    "dip=np.array([])\n",
    "m_all=np.array([])\n",
    "sigmass_all=np.array([])\n",
    "count_all=np.array([])\n",
    "for i in range(len(plateifus)):\n",
    "    if plateifus[i] not in non_usable and np.isnan(err_f[i])==False and err_f[i]<0.5 and cnt_ma[i]>10 and cnt_mi[i]>10 and z[i]<=0.06 and r[i]>0.5 and r[i]<1.5:\n",
    "        usable=np.append(usable,data[i]['plateifu_1'])\n",
    "        rad=np.append(rad,float(data[i]['radius']))\n",
    "        m_ma=np.append(m_ma,float(data[i]['mass_ma']))\n",
    "        m_mi=np.append(m_mi,float(data[i]['mass_mi']))\n",
    "        sigmass_ma=np.append(sigmass_ma,float(data[i]['sigmass_ma']))\n",
    "        sigmass_mi=np.append(sigmass_mi,float(data[i]['sigmass_mi']))\n",
    "        count_ma=np.append(count_ma,float(data[i]['count_ma']))\n",
    "        count_mi=np.append(count_mi,float(data[i]['count_mi']))\n",
    "        redshift=np.append(redshift,float(data[i]['nsa_redshift']))\n",
    "        dip=np.append(dip,float(data[i]['dip']))\n",
    "        m_all=np.append(m_all,float(data[i]['mass_all']))\n",
    "        sigmass_all=np.append(sigmass_all,float(data[i]['sigmass_all']))\n",
    "        count_all=np.append(count_all,float(data[i]['count_all']))\n",
    "#selecting galaxies not in the third MaNGA target sample, and bins that have adequate error values and number of points in them"
   ]
  },
  {
   "cell_type": "code",
   "execution_count": 9,
   "metadata": {
    "execution": {
     "iopub.execute_input": "2024-05-20T21:16:43.733669Z",
     "iopub.status.busy": "2024-05-20T21:16:43.732839Z",
     "iopub.status.idle": "2024-05-20T21:16:43.745552Z",
     "shell.execute_reply": "2024-05-20T21:16:43.743623Z",
     "shell.execute_reply.started": "2024-05-20T21:16:43.733614Z"
    },
    "tags": []
   },
   "outputs": [],
   "source": [
    "f=((10**m_ma)-(10**m_all))/(10**m_all)"
   ]
  },
  {
   "cell_type": "code",
   "execution_count": 15,
   "metadata": {
    "execution": {
     "iopub.execute_input": "2024-04-04T01:17:23.387512Z",
     "iopub.status.busy": "2024-04-04T01:17:23.386758Z",
     "iopub.status.idle": "2024-04-04T01:17:23.450243Z",
     "shell.execute_reply": "2024-04-04T01:17:23.448304Z",
     "shell.execute_reply.started": "2024-04-04T01:17:23.387461Z"
    },
    "tags": []
   },
   "outputs": [
    {
     "name": "stdout",
     "output_type": "stream",
     "text": [
      "3230\n",
      "546\n"
     ]
    }
   ],
   "source": [
    "print(len(usable))\n",
    "used_galaxies=[]\n",
    "for i in usable:\n",
    "    if i not in used_galaxies:\n",
    "        used_galaxies.append(i)\n",
    "print(len(used_galaxies))\n",
    "#counting final number of bins and galaxies used"
   ]
  },
  {
   "cell_type": "code",
   "execution_count": 16,
   "metadata": {
    "execution": {
     "iopub.execute_input": "2024-04-04T01:17:49.239405Z",
     "iopub.status.busy": "2024-04-04T01:17:49.237215Z",
     "iopub.status.idle": "2024-04-04T01:17:49.264033Z",
     "shell.execute_reply": "2024-04-04T01:17:49.262220Z",
     "shell.execute_reply.started": "2024-04-04T01:17:49.239350Z"
    },
    "tags": []
   },
   "outputs": [],
   "source": [
    "#selecting good points for the line plot\n",
    "masses=np.array([])\n",
    "radius=np.array([])\n",
    "delta = (rad[1]-rad[0])/2.0 #to put plot points in middle of bin\n",
    "excess_mean,radius_mean,binnumber = sci.binned_statistic(rad,f,bins=8,range=[0.5,1.5])\n",
    "excess_err,radius_mean,binnumber = sci.binned_statistic(rad,f,bins=8,range=[0.5,1.5],statistic='std')\n",
    "excess_count,radius_mean,binnumber = sci.binned_statistic(rad,f,bins=8,range=[0.5,1.5],statistic='count')\n",
    "for i in range(len(excess_count)):\n",
    "    if excess_count[i]>10 and np.isnan(excess_mean[i])==False:\n",
    "        masses=np.append(masses,excess_mean[i])\n",
    "        radius=np.append(radius,radius_mean[i])"
   ]
  },
  {
   "cell_type": "code",
   "execution_count": 17,
   "metadata": {
    "execution": {
     "iopub.execute_input": "2024-04-04T01:17:52.990445Z",
     "iopub.status.busy": "2024-04-04T01:17:52.989872Z",
     "iopub.status.idle": "2024-04-04T01:17:54.160386Z",
     "shell.execute_reply": "2024-04-04T01:17:54.158485Z",
     "shell.execute_reply.started": "2024-04-04T01:17:52.990398Z"
    },
    "tags": []
   },
   "outputs": [
    {
     "data": {
      "text/plain": [
       "Text(0, 0.5, 'Fractional Excess of $\\\\Sigma log(M_{\\\\odot}/pc^2)$')"
      ]
     },
     "execution_count": 17,
     "metadata": {},
     "output_type": "execute_result"
    },
    {
     "data": {
      "image/png": "[encoded data removed]",
      "text/plain": [
       "<Figure size 432x288 with 1 Axes>"
      ]
     },
     "metadata": {
      "needs_background": "light"
     },
     "output_type": "display_data"
    }
   ],
   "source": [
    "#excess mass average plot for the sample of galaxies as a function of radius\n",
    "\n",
    "#plt.scatter(rad,f,s=10,c='deepskyblue')\n",
    "\n",
    "plt.plot(radius, masses,c='violet',linewidth=3)\n",
    "plt.fill_between(radius_mean[:-1], excess_mean-(excess_err/np.sqrt(excess_count)),excess_mean+(excess_err/np.sqrt(excess_count)),alpha=0.2,color='blueviolet')\n",
    "#plt.ylim(0.15,0.37)\n",
    "#plt.xlim(0.5,1.6)\n",
    "\n",
    "plt.xlabel(r'$ R/R_{eff}$')\n",
    "plt.ylabel('Fractional Excess of $\\Sigma log(M_{\\odot}/pc^2)$')\n",
    "#plt.title('Excess of Stellar Mass in Spiral Arms')\n",
    "\n",
    "#plot3 = 'Total_Excess.pdf'\n",
    "#plt.savefig(plot3, bbox_inches='tight')"
   ]
  },
  {
   "cell_type": "code",
   "execution_count": 18,
   "metadata": {
    "execution": {
     "iopub.execute_input": "2024-04-04T03:20:49.539537Z",
     "iopub.status.busy": "2024-04-04T03:20:49.538607Z",
     "iopub.status.idle": "2024-04-04T03:20:49.573892Z",
     "shell.execute_reply": "2024-04-04T03:20:49.569879Z",
     "shell.execute_reply.started": "2024-04-04T03:20:49.539455Z"
    },
    "tags": []
   },
   "outputs": [],
   "source": [
    "def parsec(array):\n",
    "    #function converting from log Msun/spaxel^2 to log Msun/pc^2 (method taken from MaNGA tutorials - Pettini & Pagel (2004) N2 metallicity calibration)\n",
    "    spaxel_size = 0.5 #arcsec\n",
    "    c = 299792 #speed of light in km/s\n",
    "    H0 = 70 #Hubble Constant [km s^-1 Mpc^-1]\n",
    "\n",
    "    #distance to galaxy\n",
    "    D = np.array([])\n",
    "    D = np.append(D, c*redshift/H0)\n",
    "\n",
    "    scale = 1 / 206265 * D * 1e6  # 1 radian = 206265 arcsec [pc / arcsec]\n",
    "\n",
    "    step_one = 10**(array) #extracting Msun/spaxel^2\n",
    "    step_two = step_one*(1/(spaxel_size**2))*((1/(scale**2))) #converting into Msun/pc^2\n",
    "    step_three = np.log10(step_two)\n",
    "    \n",
    "    return step_three"
   ]
  },
  {
   "cell_type": "code",
   "execution_count": 24,
   "metadata": {
    "execution": {
     "iopub.execute_input": "2024-04-04T03:35:59.834268Z",
     "iopub.status.busy": "2024-04-04T03:35:59.833305Z",
     "iopub.status.idle": "2024-04-04T03:35:59.909727Z",
     "shell.execute_reply": "2024-04-04T03:35:59.907426Z",
     "shell.execute_reply.started": "2024-04-04T03:35:59.834202Z"
    },
    "tags": []
   },
   "outputs": [],
   "source": [
    "#stellar mass binned averages vs radius\n",
    "bins=25\n",
    "drange=[0,3.0]\n",
    "mass_ma,radius_ma,binnumber = sci.binned_statistic(rad,parsec(m_ma),bins=bins,range=drange)\n",
    "mass_mi,radius_mi,binnnumber = sci.binned_statistic(rad,parsec(m_mi),bins=bins,range=drange)\n",
    "count_ma,radius_ma,binnumber = sci.binned_statistic(rad,parsec(m_ma),bins=bins,range=drange,statistic='count')\n",
    "sigmass_ma,radius_ma,binnumber = sci.binned_statistic(rad,parsec(m_ma),bins=bins,range=drange,statistic='std')\n",
    "count_mi,radius_mi,binnumber = sci.binned_statistic(rad,parsec(m_mi),bins=bins,range=drange,statistic='count')\n",
    "sigmass_mi,radius_mi,binnumber = sci.binned_statistic(rad,parsec(m_mi),bins=bins,range=drange,statistic='std')\n",
    "mass_all,radius_all,binnumber = sci.binned_statistic(rad,parsec(m_all),bins=bins,range=drange)\n",
    "count_all,radius_all,binnumber = sci.binned_statistic(rad,parsec(m_all),bins=bins,range=drange,statistic='count')\n",
    "sigmass_all,radius_all,binnumber = sci.binned_statistic(rad,parsec(m_all),bins=bins,range=drange,statistic='std')\n",
    "\n",
    "masses_ma=np.array([])\n",
    "masses_mi=np.array([])\n",
    "masses_all=np.array([])\n",
    "radius_m=np.array([])\n",
    "\n",
    "for i in range(len(count_ma)):\n",
    "    if count_ma[i]>10 and np.isnan(mass_ma[i])==False:\n",
    "        masses_ma=np.append(masses_ma,mass_ma[i])\n",
    "        radius_m=np.append(radius_m,radius_ma[i])\n",
    "for i in range(len(count_mi)):\n",
    "    if count_mi[i]>10 and np.isnan(mass_mi[i])==False:\n",
    "        masses_mi=np.append(masses_mi,mass_mi[i])\n",
    "for i in range(len(count_all)):\n",
    "    if count_all[i]>10 and np.isnan(mass_all[i])==False:\n",
    "        masses_all=np.append(masses_all,mass_all[i])"
   ]
  },
  {
   "cell_type": "code",
   "execution_count": 25,
   "metadata": {
    "execution": {
     "iopub.execute_input": "2024-04-04T03:40:52.253281Z",
     "iopub.status.busy": "2024-04-04T03:40:52.251284Z",
     "iopub.status.idle": "2024-04-04T03:40:52.905224Z",
     "shell.execute_reply": "2024-04-04T03:40:52.891170Z",
     "shell.execute_reply.started": "2024-04-04T03:40:52.253215Z"
    },
    "tags": []
   },
   "outputs": [
    {
     "data": {
      "text/plain": [
       "<matplotlib.legend.Legend at 0x7fc9da0a2df0>"
      ]
     },
     "execution_count": 25,
     "metadata": {},
     "output_type": "execute_result"
    },
    {
     "data": {
      "image/png": "[encoded data removed]",
      "text/plain": [
       "<Figure size 432x288 with 1 Axes>"
      ]
     },
     "metadata": {
      "needs_background": "light"
     },
     "output_type": "display_data"
    }
   ],
   "source": [
    "plt.plot(radius_m,masses_ma,color='deepskyblue',label='Spiral Arm',ls='-.',lw=2)\n",
    "plt.plot(radius_m,masses_mi,color='darkmagenta',label='Interarm Region',ls=':')\n",
    "plt.fill_between(radius_ma[:-1],mass_ma-(sigmass_ma/np.sqrt(count_ma)),mass_ma+(sigmass_ma/np.sqrt(count_ma)),color='deepskyblue',alpha=0.2)\n",
    "plt.fill_between(radius_mi[:-1],mass_mi-(sigmass_mi/np.sqrt(count_mi)),mass_mi+(sigmass_mi/np.sqrt(count_mi)),color='darkmagenta',alpha=0.2)\n",
    "plt.plot(radius_m,masses_all,color='teal',label='Combined',ls='-.',lw=2)\n",
    "plt.fill_between(radius_all[:-1],mass_all-(sigmass_all/np.sqrt(count_all)),mass_all+(sigmass_all/np.sqrt(count_all)),color='teal',alpha=0.2)\n",
    "\n",
    "#fit_ma=np.polynomial.polynomial.polyfit(radius_m,masses_ma,1)\n",
    "#line_ma=fit_ma[1]*rma+fit_ma[0]\n",
    "#fit_mi=np.polynomial.polynomial.polyfit(radius_m,masses_mi,1)\n",
    "#line_mi=fit_mi[1]*rma+fit_mi[0]\n",
    "#linear fit line code\n",
    "\n",
    "#plt.plot(rma,line_ma,color='deepskyblue',label='Spiral Arm Best Fit',lw=1)\n",
    "#plt.plot(rmi,line_mi,color='darkmagenta',label='Interarm Region Best Fit',lw=1,ls='--')\n",
    "plt.xlabel(r'$R/R_{eff}$')\n",
    "plt.ylabel('$\\Sigma log(M_{\\odot}/pc^2)$')\n",
    "#plt.title('Difference in Stellar Mass Density')\n",
    "plt.legend()\n",
    "\n",
    "#plot4 = 'Difference.pdf'\n",
    "#plt.savefig(plot4, bbox_inches='tight')"
   ]
  },
  {
   "cell_type": "code",
   "execution_count": null,
   "metadata": {},
   "outputs": [],
   "source": []
  }
 ],
 "metadata": {
  "kernelspec": {
   "display_name": "Python 3.8 (py38)",
   "language": "python",
   "name": "py38"
  },
  "language_info": {
   "codemirror_mode": {
    "name": "ipython",
    "version": 3
   },
   "file_extension": ".py",
   "mimetype": "text/x-python",
   "name": "python",
   "nbconvert_exporter": "python",
   "pygments_lexer": "ipython3",
   "version": "3.8.5"
  }
 },
 "nbformat": 4,
 "nbformat_minor": 4
}
