{
 "cells": [
  {
   "cell_type": "code",
   "execution_count": 1,
   "metadata": {
    "execution": {
     "iopub.execute_input": "2023-06-15T19:42:07.281889Z",
     "iopub.status.busy": "2023-06-15T19:42:07.279949Z",
     "iopub.status.idle": "2023-06-15T19:42:33.196971Z",
     "shell.execute_reply": "2023-06-15T19:42:33.195032Z",
     "shell.execute_reply.started": "2023-06-15T19:42:07.281837Z"
    },
    "tags": []
   },
   "outputs": [
    {
     "name": "stderr",
     "output_type": "stream",
     "text": [
      "/home/idies/miniconda3/envs/py38/lib/python3.8/site-packages/marvin/core/exceptions.py:50: UserWarning: cannot initiate Sentry error reporting: [Errno 6] No such device or address.\n",
      "  warnings.warn('cannot initiate Sentry error reporting: {0}.'.format(str(ee)),\n",
      "\u001b[0;34m[INFO]: \u001b[0mNo release version set. Setting default to DR17\n",
      "\u001b[1;33m[WARNING]: \u001b[0m\u001b[0;39mpath /home/idies/workspace/sdss_sas/mangawork/manga/spectro/redux/v3_1_1/drpall-v3_1_1.fits cannot be found. Setting drpall to None.\u001b[0m \u001b[0;36m(MarvinUserWarning)\u001b[0m\n",
      "\u001b[1;33m[WARNING]: \u001b[0m\u001b[0;39mpath /home/idies/workspace/sdss_sas/mangawork/manga/spectro/analysis/v3_1_1/3.1.0/dapall-v3_1_1-3.1.0.fits cannot be found. Setting dapall to None.\u001b[0m \u001b[0;36m(MarvinUserWarning)\u001b[0m\n"
     ]
    },
    {
     "name": "stdout",
     "output_type": "stream",
     "text": [
      "Marvin and Matplotlib imported. Warnings about missing paths/files are typical, so no need to be concerned\n"
     ]
    }
   ],
   "source": [
    "import marvin\n",
    "marvin.config.download = True\n",
    "marvin.config.release = 'DR17'\n",
    "\n",
    "%matplotlib inline\n",
    "import matplotlib.pyplot as plt\n",
    "import matplotlib.gridspec as gridspec\n",
    "import scipy.stats as sci\n",
    "\n",
    "from marvin.tools.vacs import VACs\n",
    "from astropy.io import fits\n",
    "import numpy as np\n",
    "from marvin.tools import Maps\n",
    "from marvin.tools import Cube\n",
    "\n",
    "from marvin import config #Needed to fix \"Cube not subscriptable\" when running in Sciserver\n",
    "config.forceDbOff() #Needed to fix \"Cube not subscriptable\" when running in Sciserver\n",
    "\n",
    "print('Marvin and Matplotlib imported. Warnings about missing paths/files are typical, so no need to be concerned')\n",
    "#importing necessary functions"
   ]
  },
  {
   "cell_type": "code",
   "execution_count": 2,
   "metadata": {
    "execution": {
     "iopub.execute_input": "2023-06-15T19:42:33.216706Z",
     "iopub.status.busy": "2023-06-15T19:42:33.216214Z",
     "iopub.status.idle": "2023-06-15T19:42:34.170978Z",
     "shell.execute_reply": "2023-06-15T19:42:34.168895Z",
     "shell.execute_reply.started": "2023-06-15T19:42:33.216661Z"
    },
    "tags": []
   },
   "outputs": [],
   "source": [
    "selection = 'all_data.fits'\n",
    "hdu = fits.open(selection)\n",
    "data = hdu[1].data\n",
    "#importing sample data"
   ]
  },
  {
   "cell_type": "code",
   "execution_count": 3,
   "metadata": {
    "execution": {
     "iopub.execute_input": "2023-06-15T19:42:34.175267Z",
     "iopub.status.busy": "2023-06-15T19:42:34.174778Z",
     "iopub.status.idle": "2023-06-15T19:42:41.830412Z",
     "shell.execute_reply": "2023-06-15T19:42:41.828299Z",
     "shell.execute_reply.started": "2023-06-15T19:42:34.175220Z"
    },
    "tags": []
   },
   "outputs": [],
   "source": [
    "non_usable=np.array([])\n",
    "\n",
    "for i in range(len(data)):\n",
    "    if data[i]['mngtarg3']!=0:\n",
    "        non_usable=np.append(non_usable,str(data[i]['plateifu_1']))\n",
    "#selecting galaxies in the third MaNGA targets sample"
   ]
  },
  {
   "cell_type": "code",
   "execution_count": 4,
   "metadata": {
    "execution": {
     "iopub.execute_input": "2023-06-15T19:42:48.972238Z",
     "iopub.status.busy": "2023-06-15T19:42:48.971772Z",
     "iopub.status.idle": "2023-06-15T19:42:48.986668Z",
     "shell.execute_reply": "2023-06-15T19:42:48.984823Z",
     "shell.execute_reply.started": "2023-06-15T19:42:48.972192Z"
    },
    "tags": []
   },
   "outputs": [],
   "source": [
    "#Calculate fractional mass error\n",
    "def massexcess(sigmass_ma, sigmass_mi, f):\n",
    "\n",
    "    err_ma = sigmass_ma #std, and this is the error on log of value, hence the same as the fractional error on the value. \n",
    "    err_mi = sigmass_mi\n",
    "    err_f = f*np.sqrt(err_ma**2 + 2*err_mi**2) # err_not is twice becauses it's in the denominator\n",
    "\n",
    "    return err_f"
   ]
  },
  {
   "cell_type": "code",
   "execution_count": 5,
   "metadata": {
    "execution": {
     "iopub.execute_input": "2023-06-15T19:42:48.988994Z",
     "iopub.status.busy": "2023-06-15T19:42:48.988475Z",
     "iopub.status.idle": "2023-06-15T19:42:49.017673Z",
     "shell.execute_reply": "2023-06-15T19:42:49.015732Z",
     "shell.execute_reply.started": "2023-06-15T19:42:48.988952Z"
    },
    "tags": []
   },
   "outputs": [],
   "source": [
    "plateifus=data['plateifu_1']\n",
    "sig_ma=data['sigmass_ma'].astype('float')\n",
    "sig_mi=data['sigmass_mi'].astype('float')\n",
    "fun=data['mass_excess'].astype('float')\n",
    "cnt_ma=data['count_ma'].astype('float')\n",
    "cnt_mi=data['count_mi'].astype('float')\n",
    "err_f=np.absolute(massexcess(sig_ma,sig_mi,fun))\n",
    "#getting fractional mass errors for the sample"
   ]
  },
  {
   "cell_type": "code",
   "execution_count": 6,
   "metadata": {
    "execution": {
     "iopub.execute_input": "2023-06-15T19:43:51.096486Z",
     "iopub.status.busy": "2023-06-15T19:43:51.095715Z",
     "iopub.status.idle": "2023-06-15T19:44:04.357465Z",
     "shell.execute_reply": "2023-06-15T19:44:04.354946Z",
     "shell.execute_reply.started": "2023-06-15T19:43:51.096433Z"
    },
    "tags": []
   },
   "outputs": [],
   "source": [
    "usable=np.array([])\n",
    "rad=np.array([])\n",
    "m_ma=np.array([])\n",
    "m_mi=np.array([])\n",
    "f=np.array([])\n",
    "sigmass_ma=np.array([])\n",
    "sigmass_mi=np.array([])\n",
    "count_ma=np.array([])\n",
    "count_mi=np.array([])\n",
    "for i in range(len(plateifus)):\n",
    "    if plateifus[i] not in non_usable and err_f[i]!=np.nan and err_f[i]<0.5 and cnt_ma[i]>10 and cnt_mi[i]>10:\n",
    "        usable=np.append(usable,data[i]['plateifu_1'])\n",
    "        rad=np.append(rad,float(data[i]['radius']))\n",
    "        m_ma=np.append(m_ma,float(data[i]['arm_mass']))\n",
    "        m_mi=np.append(m_mi,float(data[i]['interarm_mass']))\n",
    "        f=np.append(f,float(data[i]['mass_excess']))\n",
    "        sigmass_ma=np.append(sigmass_ma,float(data[i]['sigmass_ma']))\n",
    "        sigmass_mi=np.append(sigmass_mi,float(data[i]['sigmass_mi']))\n",
    "        count_ma=np.append(count_ma,float(data[i]['count_ma']))\n",
    "        count_mi=np.append(count_mi,float(data[i]['count_mi']))\n",
    "#selecting galaxies not in the third MaNGA target sample, and bins that have adequate error values and number of points in them"
   ]
  },
  {
   "cell_type": "code",
   "execution_count": 7,
   "metadata": {
    "execution": {
     "iopub.execute_input": "2023-06-15T19:44:14.343541Z",
     "iopub.status.busy": "2023-06-15T19:44:14.342779Z",
     "iopub.status.idle": "2023-06-15T19:44:14.478071Z",
     "shell.execute_reply": "2023-06-15T19:44:14.475117Z",
     "shell.execute_reply.started": "2023-06-15T19:44:14.343490Z"
    },
    "tags": []
   },
   "outputs": [
    {
     "name": "stdout",
     "output_type": "stream",
     "text": [
      "5788\n",
      "1015\n"
     ]
    }
   ],
   "source": [
    "print(len(usable))\n",
    "used_galaxies=[]\n",
    "for i in usable:\n",
    "    if i not in used_galaxies:\n",
    "        used_galaxies.append(i)\n",
    "print(len(used_galaxies))\n",
    "#counting final number of bins and galaxies used"
   ]
  },
  {
   "cell_type": "code",
   "execution_count": 12,
   "metadata": {
    "execution": {
     "iopub.execute_input": "2023-06-15T19:49:52.918304Z",
     "iopub.status.busy": "2023-06-15T19:49:52.917524Z",
     "iopub.status.idle": "2023-06-15T19:49:52.949979Z",
     "shell.execute_reply": "2023-06-15T19:49:52.948223Z",
     "shell.execute_reply.started": "2023-06-15T19:49:52.918253Z"
    },
    "tags": []
   },
   "outputs": [],
   "source": [
    "#selecting good points for the line plot\n",
    "masses=np.array([])\n",
    "radius=np.array([])\n",
    "delta = (rad[1]-rad[0])/2.0 #to put plot points in middle of bin\n",
    "excess_mean,radius_mean,binnumber = sci.binned_statistic(rad,f,bins=25,range=[0,3])\n",
    "excess_err,radius_mean,binnumber = sci.binned_statistic(rad,f,bins=25,range=[0,3],statistic='std')\n",
    "excess_count,radius_mean,binnumber = sci.binned_statistic(rad,f,bins=25,range=[0,3],statistic='count')\n",
    "for i in range(len(excess_count)):\n",
    "    if excess_count[i]>10 and excess_mean[i]!=np.nan:\n",
    "        masses=np.append(masses,excess_mean[i])\n",
    "        radius=np.append(radius,radius_mean[i])"
   ]
  },
  {
   "cell_type": "code",
   "execution_count": 26,
   "metadata": {
    "execution": {
     "iopub.execute_input": "2023-06-15T20:37:49.917544Z",
     "iopub.status.busy": "2023-06-15T20:37:49.916794Z",
     "iopub.status.idle": "2023-06-15T20:37:50.534557Z",
     "shell.execute_reply": "2023-06-15T20:37:50.532881Z",
     "shell.execute_reply.started": "2023-06-15T20:37:49.917493Z"
    },
    "tags": []
   },
   "outputs": [
    {
     "data": {
      "text/plain": [
       "Text(0.5, 1.0, 'Excess of Stellar Mass in Spiral Arms')"
      ]
     },
     "execution_count": 26,
     "metadata": {},
     "output_type": "execute_result"
    },
    {
     "data": {
      "image/png": "[encoded data removed]",
      "text/plain": [
       "<Figure size 432x288 with 1 Axes>"
      ]
     },
     "metadata": {
      "needs_background": "light"
     },
     "output_type": "display_data"
    }
   ],
   "source": [
    "#excess mass average plot for the sample of galaxies as a function of radius\n",
    "\n",
    "plt.scatter(rad,f,s=20,c='deepskyblue')\n",
    "\n",
    "plt.plot(radius+delta, masses,c='darkmagenta',linewidth=3)\n",
    "plt.fill_between(radius_mean[:-1]+delta, excess_mean-excess_err,excess_mean+excess_err,alpha=0.2,color='darkmagenta')\n",
    "plt.ylim(-0.1,0.6)\n",
    "plt.xlim(0.1,2.6)\n",
    "\n",
    "plt.xlabel(r'$ R/R_{eff}$')\n",
    "plt.ylabel('Fractional Excess of \\n $log_{10}(M_{\\odot}/spaxels^2)$')\n",
    "plt.title('Excess of Stellar Mass in Spiral Arms')"
   ]
  },
  {
   "cell_type": "code",
   "execution_count": null,
   "metadata": {},
   "outputs": [],
   "source": []
  }
 ],
 "metadata": {
  "kernelspec": {
   "display_name": "Python 3.8 (py38)",
   "language": "python",
   "name": "py38"
  },
  "language_info": {
   "codemirror_mode": {
    "name": "ipython",
    "version": 3
   },
   "file_extension": ".py",
   "mimetype": "text/x-python",
   "name": "python",
   "nbconvert_exporter": "python",
   "pygments_lexer": "ipython3",
   "version": "3.8.5"
  }
 },
 "nbformat": 4,
 "nbformat_minor": 4
}
