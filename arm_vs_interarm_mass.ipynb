{
 "cells": [
  {
   "cell_type": "code",
   "execution_count": 1,
   "metadata": {
    "execution": {
     "iopub.execute_input": "2024-04-03T16:57:12.942257Z",
     "iopub.status.busy": "2024-04-03T16:57:12.941746Z",
     "iopub.status.idle": "2024-04-03T16:57:26.395046Z",
     "shell.execute_reply": "2024-04-03T16:57:26.393503Z",
     "shell.execute_reply.started": "2024-04-03T16:57:12.942137Z"
    },
    "tags": []
   },
   "outputs": [
    {
     "name": "stderr",
     "output_type": "stream",
     "text": [
      "/home/idies/miniconda3/envs/py38/lib/python3.8/site-packages/marvin/core/exceptions.py:50: UserWarning: cannot initiate Sentry error reporting: [Errno 6] No such device or address.\n",
      "  warnings.warn('cannot initiate Sentry error reporting: {0}.'.format(str(ee)),\n",
      "\u001b[0;34m[INFO]: \u001b[0mNo release version set. Setting default to DR17\n",
      "\u001b[1;33m[WARNING]: \u001b[0m\u001b[0;39mpath /home/idies/workspace/sdss_sas/mangawork/manga/spectro/redux/v3_1_1/drpall-v3_1_1.fits cannot be found. Setting drpall to None.\u001b[0m \u001b[0;36m(MarvinUserWarning)\u001b[0m\n",
      "\u001b[1;33m[WARNING]: \u001b[0m\u001b[0;39mpath /home/idies/workspace/sdss_sas/mangawork/manga/spectro/analysis/v3_1_1/3.1.0/dapall-v3_1_1-3.1.0.fits cannot be found. Setting dapall to None.\u001b[0m \u001b[0;36m(MarvinUserWarning)\u001b[0m\n",
      "\u001b[1;33m[WARNING]: \u001b[0m\u001b[0;39mThis declarative base already contains a class with the same class name and module name as marvin.db.models.SampleModelClasses.MangaTarget, and will be replaced in the string-lookup table.\u001b[0m \u001b[0;36m(SAWarning)\u001b[0m\n"
     ]
    },
    {
     "name": "stdout",
     "output_type": "stream",
     "text": [
      "Marvin and Matplotlib imported. Warnings about missing paths/files are typical, so no need to be concerned\n"
     ]
    }
   ],
   "source": [
    "import marvin\n",
    "marvin.config.download = True\n",
    "marvin.config.release = 'DR17'\n",
    "\n",
    "%matplotlib inline\n",
    "import matplotlib.pyplot as plt\n",
    "import matplotlib.gridspec as gridspec\n",
    "import scipy.stats as sci\n",
    "\n",
    "from marvin.tools.vacs import VACs\n",
    "from astropy.io import fits\n",
    "import numpy as np\n",
    "from marvin.tools import Maps\n",
    "from marvin.tools import Cube\n",
    "\n",
    "from marvin import config #Needed to fix \"Cube not subscriptable\" when running in Sciserver\n",
    "config.forceDbOff() #Needed to fix \"Cube not subscriptable\" when running in Sciserver\n",
    "\n",
    "print('Marvin and Matplotlib imported. Warnings about missing paths/files are typical, so no need to be concerned')"
   ]
  },
  {
   "cell_type": "code",
   "execution_count": 9,
   "metadata": {
    "execution": {
     "iopub.execute_input": "2024-04-03T20:44:24.138866Z",
     "iopub.status.busy": "2024-04-03T20:44:24.136106Z",
     "iopub.status.idle": "2024-04-03T20:44:24.161605Z",
     "shell.execute_reply": "2024-04-03T20:44:24.159433Z",
     "shell.execute_reply.started": "2024-04-03T20:44:24.138792Z"
    },
    "tags": []
   },
   "outputs": [],
   "source": [
    "mangaplifu=[] #insert list of galaxies to run code on"
   ]
  },
  {
   "cell_type": "code",
   "execution_count": 3,
   "metadata": {
    "execution": {
     "iopub.execute_input": "2024-04-03T16:57:26.413428Z",
     "iopub.status.busy": "2024-04-03T16:57:26.412931Z",
     "iopub.status.idle": "2024-04-03T16:57:26.463514Z",
     "shell.execute_reply": "2024-04-03T16:57:26.461692Z",
     "shell.execute_reply.started": "2024-04-03T16:57:26.413386Z"
    },
    "tags": []
   },
   "outputs": [],
   "source": [
    "#a function to get appropriate values for arm vs interarm spaxels\n",
    "def arm_selector (mangaplifu,at=0.5,it=0.3,bins=25,drange=[0,3.0],usable=0.5):\n",
    "    plate = mangaplifu.split('-')[0]\n",
    "    ifu = mangaplifu.split('-')[1]\n",
    "    \n",
    "    pi3D = 'https://data.sdss.org/sas/dr17/manga/spectro/pipe3d/v3_1_1/3.1.1/'+str(plate)+'/manga-'+str(plate)+'-'+str(ifu)+'.Pipe3D.cube.fits.gz'\n",
    "    #Getting the FITS files for Pipe3D\n",
    "    hdu1 = fits.open(pi3D)\n",
    "    mass = hdu1[1].data[19]\n",
    "    error=hdu1[1].data[20]\n",
    "    mask=hdu1[8].data\n",
    "    gaia=hdu1[7].data\n",
    "    \n",
    "    #Getting the GZ3D files\n",
    "    maps = marvin.tools.Maps(mangaplifu,mode='remote')\n",
    "    data = maps.vacs.gz3d\n",
    "    \n",
    "    #removing bad spaxels\n",
    "    m=mass*mask\n",
    "    mask_m=np.where(m==0,np.nan,m)\n",
    "    \n",
    "    #removing spaxels with foreground stars\n",
    "    indexes0=np.array([])\n",
    "    indexes1=np.array([])\n",
    "    for i in range(len(gaia)):\n",
    "        for j in range(len(gaia[i])):\n",
    "            if gaia[i][j]==1:\n",
    "                indexes0=np.append(indexes0,i)\n",
    "                indexes1=np.append(indexes1,j)\n",
    "    if len(indexes0)!=0:\n",
    "        for i in indexes0:\n",
    "            for i in indexes1:\n",
    "                mask_m[int(i)][int(j)]=np.nan\n",
    "    \n",
    "    #selecting arm vs interarm spaxels\n",
    "    galaxy = data.spiral_mask_spaxel\n",
    "    #setting up a threshold\n",
    "    max_a=np.max(galaxy)\n",
    "    inter=max_a*it\n",
    "    ar=max_a*at\n",
    "    arm = np.where(galaxy > ar,1,np.nan)\n",
    "    interarm = np.where(galaxy < inter,1,np.nan)\n",
    "    ma = mask_m*arm\n",
    "    mi= mask_m*interarm\n",
    "    \n",
    "    radius = maps.spx_ellcoo_r_re\n",
    "    \n",
    "    #getting binned averages\n",
    "    mask=np.where(np.isnan(ma),0,1)\n",
    "    mask2=np.where(np.isnan(mi),0,1)\n",
    "    mask3=np.where(np.isnan(mask_m),0,1)\n",
    "    sigmass_ma,radius_ma,binnumber = sci.binned_statistic(radius.value[mask!=0],ma[mask!=0],bins=bins,range=drange,statistic='std')\n",
    "    count_ma,radius_ma,binnumber = sci.binned_statistic(radius.value[mask!=0],ma[mask!=0],bins=bins,range=drange,statistic='count')\n",
    "    mass_ma,radius_ma,binnumber = sci.binned_statistic(radius.value[mask!=0],ma[mask!=0],bins=bins,range=drange,statistic='median')\n",
    "    mass_mi,radius_mi,binnnumber = sci.binned_statistic(radius.value[mask2!=0],mi[mask2!=0],bins=bins,range=drange,statistic='median')\n",
    "    sigmass_mi,radius_mi,binnumber = sci.binned_statistic(radius.value[mask2!=0],mi[mask2!=0],bins=bins,range=drange,statistic='std')\n",
    "    count_mi,radius_mi,binnumber = sci.binned_statistic(radius.value[mask2!=0],mi[mask2!=0],bins=bins,range=drange,statistic='count')\n",
    "    sigmass_all,radius_all,binnumber = sci.binned_statistic(radius.value[mask3!=0],mask_m[mask3!=0],bins=bins,range=drange,statistic='std')\n",
    "    count_all,radius_all,binnumber = sci.binned_statistic(radius.value[mask3!=0],mask_m[mask3!=0],bins=bins,range=drange,statistic='count')\n",
    "    mass_all,radius_all,binnumber = sci.binned_statistic(radius.value[mask3!=0],mask_m[mask3!=0],bins=bins,range=drange,statistic='median')\n",
    "\n",
    "    hdu1.close()\n",
    "    \n",
    "    return mass_ma,radius_ma,mass_mi,radius_mi,sigmass_ma,sigmass_mi,count_ma,count_mi,sigmass_all,count_all,mass_all"
   ]
  },
  {
   "cell_type": "code",
   "execution_count": 10,
   "metadata": {
    "execution": {
     "iopub.execute_input": "2024-04-03T20:44:32.029754Z",
     "iopub.status.busy": "2024-04-03T20:44:32.028991Z",
     "iopub.status.idle": "2024-04-03T20:57:22.595693Z",
     "shell.execute_reply": "2024-04-03T20:57:22.593984Z",
     "shell.execute_reply.started": "2024-04-03T20:44:32.029705Z"
    },
    "tags": []
   },
   "outputs": [
    {
     "name": "stdout",
     "output_type": "stream",
     "text": [
      "Successful: 9510-12701\n",
      "Successful: 9507-12705\n",
      "Successful: 10511-12705\n",
      "Successful: 8945-12701\n",
      "Successful: 8990-6103\n",
      "Successful: 8262-9102\n",
      "Successful: 8323-12703\n",
      "Successful: 11830-12703\n",
      "Successful: 8445-12701\n",
      "Successful: 12621-6101\n",
      "Successful: 8443-9101\n",
      "Successful: 11018-12702\n",
      "Successful: 9879-9101\n",
      "Successful: 8321-12705\n",
      "Successful: 11954-12704\n",
      "Successful: 8322-12701\n",
      "Successful: 8322-12704\n",
      "Successful: 8442-12703\n",
      "Successful: 12514-9102\n",
      "Successful: 8442-9102\n",
      "Successful: 11758-9101\n",
      "[]\n"
     ]
    }
   ],
   "source": [
    "file = open('arm_vs_interarm.txt','a')\n",
    "file0=np.loadtxt('arm_vs_interarm.txt',dtype=str,unpack=True)\n",
    "error=[]\n",
    "\n",
    "for i in mangaplifu[0:]:\n",
    "    try:\n",
    "        mass_ma,radius_ma,mass_mi,radius_mi,sigmass_ma,sigmass_mi,count_ma,count_mi,sigmass_all,count_all,mass_all = arm_selector(i,at=0.5,it=0.3)\n",
    "        f=(10**(mass_ma)-10**(mass_all))/(10**(mass_all))\n",
    "        dip=(10**(mass_mi))/(10**(mass_all))\n",
    "        for j in range(len(mass_ma)):\n",
    "            row=[str(i),' ', str(radius_ma[j]),' ', str(mass_ma[j]),' ', str(mass_mi[j]),' ', str(f[j]),' ',str(sigmass_ma[j]),' ',str(sigmass_mi[j]),' ',str(count_ma[j]),' ',str(count_mi[j]),' ',str(mass_all[j]),' ', str(sigmass_all[j]),' ', str(count_all[j]),' ',str(dip[j])]\n",
    "            file.writelines(row)\n",
    "            file.write('\\n')\n",
    "        print('Successful:',i)\n",
    "    except:\n",
    "        error.append(i)\n",
    "        print('Problems with:',i)\n",
    "    continue\n",
    "file.close()\n",
    "print(error)\n",
    "#Getting the average mass and radius values and the excess in mass values"
   ]
  },
  {
   "cell_type": "code",
   "execution_count": null,
   "metadata": {},
   "outputs": [],
   "source": []
  }
 ],
 "metadata": {
  "kernelspec": {
   "display_name": "Python 3.8 (py38)",
   "language": "python",
   "name": "py38"
  },
  "language_info": {
   "codemirror_mode": {
    "name": "ipython",
    "version": 3
   },
   "file_extension": ".py",
   "mimetype": "text/x-python",
   "name": "python",
   "nbconvert_exporter": "python",
   "pygments_lexer": "ipython3",
   "version": "3.8.5"
  }
 },
 "nbformat": 4,
 "nbformat_minor": 4
}
