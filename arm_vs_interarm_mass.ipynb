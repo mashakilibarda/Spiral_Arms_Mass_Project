{
 "cells": [
  {
   "cell_type": "code",
   "execution_count": 1,
   "metadata": {
    "execution": {
     "iopub.execute_input": "2023-06-08T16:55:07.926925Z",
     "iopub.status.busy": "2023-06-08T16:55:07.926246Z",
     "iopub.status.idle": "2023-06-08T16:55:52.055258Z",
     "shell.execute_reply": "2023-06-08T16:55:52.053052Z",
     "shell.execute_reply.started": "2023-06-08T16:55:07.926854Z"
    },
    "tags": []
   },
   "outputs": [
    {
     "name": "stderr",
     "output_type": "stream",
     "text": [
      "/home/idies/miniconda3/envs/py38/lib/python3.8/site-packages/marvin/core/exceptions.py:50: UserWarning: cannot initiate Sentry error reporting: [Errno 6] No such device or address.\n",
      "  warnings.warn('cannot initiate Sentry error reporting: {0}.'.format(str(ee)),\n",
      "\u001b[0;34m[INFO]: \u001b[0mNo release version set. Setting default to DR17\n",
      "\u001b[1;33m[WARNING]: \u001b[0m\u001b[0;39mpath /home/idies/workspace/sdss_sas/mangawork/manga/spectro/redux/v3_1_1/drpall-v3_1_1.fits cannot be found. Setting drpall to None.\u001b[0m \u001b[0;36m(MarvinUserWarning)\u001b[0m\n",
      "\u001b[1;33m[WARNING]: \u001b[0m\u001b[0;39mpath /home/idies/workspace/sdss_sas/mangawork/manga/spectro/analysis/v3_1_1/3.1.0/dapall-v3_1_1-3.1.0.fits cannot be found. Setting dapall to None.\u001b[0m \u001b[0;36m(MarvinUserWarning)\u001b[0m\n"
     ]
    },
    {
     "name": "stdout",
     "output_type": "stream",
     "text": [
      "Marvin and Matplotlib imported. Warnings about missing paths/files are typical, so no need to be concerned\n"
     ]
    }
   ],
   "source": [
    "import marvin\n",
    "marvin.config.download = True\n",
    "marvin.config.release = 'DR17'\n",
    "\n",
    "%matplotlib inline\n",
    "import matplotlib.pyplot as plt\n",
    "import matplotlib.gridspec as gridspec\n",
    "import scipy.stats as sci\n",
    "\n",
    "from marvin.tools.vacs import VACs\n",
    "from astropy.io import fits\n",
    "import numpy as np\n",
    "from marvin.tools import Maps\n",
    "from marvin.tools import Cube\n",
    "\n",
    "from marvin import config #Needed to fix \"Cube not subscriptable\" when running in Sciserver\n",
    "config.forceDbOff() #Needed to fix \"Cube not subscriptable\" when running in Sciserver\n",
    "\n",
    "print('Marvin and Matplotlib imported. Warnings about missing paths/files are typical, so no need to be concerned')"
   ]
  },
  {
   "cell_type": "code",
   "execution_count": 2,
   "metadata": {
    "execution": {
     "iopub.execute_input": "2023-06-08T16:56:27.500514Z",
     "iopub.status.busy": "2023-06-08T16:56:27.499698Z",
     "iopub.status.idle": "2023-06-08T16:56:37.635148Z",
     "shell.execute_reply": "2023-06-08T16:56:37.632856Z",
     "shell.execute_reply.started": "2023-06-08T16:56:27.500458Z"
    },
    "tags": []
   },
   "outputs": [],
   "source": [
    "selection = 'full_initial_sample.fits'\n",
    "hdu = fits.open(selection)\n",
    "data = hdu[1].data\n",
    "\n",
    "mangaplifu = []\n",
    "plates = []\n",
    "ifudsgn=[]\n",
    "\n",
    "for galaxy in range(len(data)):\n",
    "    if data[galaxy]['GZ_SPIRAL_VOTES']/data[galaxy]['GZ_TOTAL_CLASSIFICATIONS']>0.2 and data[galaxy]['IFUDESIGNSIZE_1']>0 and data[galaxy]['nsa_elpetro_ba']>0.5:\n",
    "        mangaplifu.append(str(data[galaxy]['plate_1'])+'-'+str(data[galaxy]['ifudsgn_1']))\n",
    "        plates.append(data[galaxy]['plate_1'])\n",
    "        ifudsgn.append(data[galaxy]['ifudsgn_1'])\n",
    "        \n",
    "hdu.close()\n",
    "#selecting galaxies with spiral arms using GZ3D metadata"
   ]
  },
  {
   "cell_type": "code",
   "execution_count": 3,
   "metadata": {
    "execution": {
     "iopub.execute_input": "2023-06-08T16:57:11.416169Z",
     "iopub.status.busy": "2023-06-08T16:57:11.414627Z",
     "iopub.status.idle": "2023-06-08T16:57:11.435467Z",
     "shell.execute_reply": "2023-06-08T16:57:11.433562Z",
     "shell.execute_reply.started": "2023-06-08T16:57:11.416112Z"
    },
    "tags": []
   },
   "outputs": [],
   "source": [
    "#a function to get appropriate values for arm vs interarm spaxels\n",
    "def arm_selector (mangaid, plate, ifudsgn):\n",
    "    pi3D = 'https://data.sdss.org/sas/dr17/manga/spectro/pipe3d/v3_1_1/3.1.1/'+str(plate)+'/manga-'+str(plate)+'-'+str(ifudsgn)+'.Pipe3D.cube.fits.gz'\n",
    "    #Getting the FITS files for Pipe3D\n",
    "    hdu1 = fits.open(pi3D)\n",
    "    mass = hdu1[1].data[19]\n",
    "    \n",
    "    #Getting the GZ3D files\n",
    "    maps = marvin.tools.Maps(mangaid,mode='remote')\n",
    "    data = maps.vacs.gz3d\n",
    "    \n",
    "    #selecting arm vs interarm spaxels\n",
    "    galaxy = data.spiral_mask_spaxel\n",
    "    arm = np.where(galaxy > 5,1,np.nan)\n",
    "    interarm = np.where(galaxy < 3,1,np.nan)\n",
    "    ma = mass*arm\n",
    "    mi= mass*interarm\n",
    "    \n",
    "    #getting binned averages\n",
    "    radius = maps.spx_ellcoo_r_re\n",
    "    mask=np.where(np.isnan(ma),0,1)\n",
    "    mask2=np.where(np.isnan(mi),0,1)\n",
    "    mass_ma,radius_ma,binnumber = sci.binned_statistic(radius.value[mask!=0],ma[mask!=0],bins=20,range=[0.5,2.5])\n",
    "    mass_mi,radius_mi,binnnumber = sci.binned_statistic(radius.value[mask2!=0],mi[mask2!=0],bins=20,range=[0.5,2.5])\n",
    "    \n",
    "    hdu1.close()\n",
    "    \n",
    "    return mass_ma,radius_ma,mass_mi,radius_mi"
   ]
  },
  {
   "cell_type": "code",
   "execution_count": 5,
   "metadata": {
    "execution": {
     "iopub.execute_input": "2023-06-08T16:58:31.753970Z",
     "iopub.status.busy": "2023-06-08T16:58:31.753114Z",
     "iopub.status.idle": "2023-06-08T17:08:59.447669Z",
     "shell.execute_reply": "2023-06-08T17:08:59.445108Z",
     "shell.execute_reply.started": "2023-06-08T16:58:31.753913Z"
    },
    "tags": []
   },
   "outputs": [
    {
     "name": "stderr",
     "output_type": "stream",
     "text": [
      "Progress: 100% 1/1 [00:10<00:00, 10.02s/files, n_files=1, n_streams=1]\n"
     ]
    },
    {
     "name": "stdout",
     "output_type": "stream",
     "text": [
      "SDSS_ACCESS> Done!\n"
     ]
    },
    {
     "name": "stderr",
     "output_type": "stream",
     "text": [
      "\u001b[0;34m[INFO]: \u001b[0mdownloading file for VAC 'gz3d'\n",
      "Progress: 100% 1/1 [00:05<00:00,  5.01s/files, n_files=1, n_streams=1]\n"
     ]
    },
    {
     "name": "stdout",
     "output_type": "stream",
     "text": [
      "SDSS_ACCESS> Done!\n"
     ]
    },
    {
     "name": "stderr",
     "output_type": "stream",
     "text": [
      "Progress: 100% 1/1 [00:10<00:00, 10.02s/files, n_files=1, n_streams=1]\n"
     ]
    },
    {
     "name": "stdout",
     "output_type": "stream",
     "text": [
      "SDSS_ACCESS> Done!\n"
     ]
    },
    {
     "name": "stderr",
     "output_type": "stream",
     "text": [
      "\u001b[0;34m[INFO]: \u001b[0mdownloading file for VAC 'gz3d'\n",
      "Progress: 100% 1/1 [00:05<00:00,  5.01s/files, n_files=1, n_streams=1]\n"
     ]
    },
    {
     "name": "stdout",
     "output_type": "stream",
     "text": [
      "SDSS_ACCESS> Done!\n"
     ]
    },
    {
     "name": "stderr",
     "output_type": "stream",
     "text": [
      "Progress: 100% 1/1 [00:10<00:00, 10.02s/files, n_files=1, n_streams=1]\n"
     ]
    },
    {
     "name": "stdout",
     "output_type": "stream",
     "text": [
      "SDSS_ACCESS> Done!\n"
     ]
    },
    {
     "name": "stderr",
     "output_type": "stream",
     "text": [
      "\u001b[0;34m[INFO]: \u001b[0mdownloading file for VAC 'gz3d'\n",
      "Progress: 100% 1/1 [00:05<00:00,  5.01s/files, n_files=1, n_streams=1]\n"
     ]
    },
    {
     "name": "stdout",
     "output_type": "stream",
     "text": [
      "SDSS_ACCESS> Done!\n"
     ]
    },
    {
     "name": "stderr",
     "output_type": "stream",
     "text": [
      "Progress: 100% 1/1 [00:05<00:00,  5.02s/files, n_files=1, n_streams=1]\n"
     ]
    },
    {
     "name": "stdout",
     "output_type": "stream",
     "text": [
      "SDSS_ACCESS> Done!\n"
     ]
    },
    {
     "name": "stderr",
     "output_type": "stream",
     "text": [
      "\u001b[0;34m[INFO]: \u001b[0mdownloading file for VAC 'gz3d'\n",
      "Progress: 100% 1/1 [00:05<00:00,  5.01s/files, n_files=1, n_streams=1]\n"
     ]
    },
    {
     "name": "stdout",
     "output_type": "stream",
     "text": [
      "SDSS_ACCESS> Done!\n"
     ]
    },
    {
     "name": "stderr",
     "output_type": "stream",
     "text": [
      "Progress: 100% 1/1 [00:05<00:00,  5.01s/files, n_files=1, n_streams=1]\n"
     ]
    },
    {
     "name": "stdout",
     "output_type": "stream",
     "text": [
      "SDSS_ACCESS> Done!\n"
     ]
    },
    {
     "name": "stderr",
     "output_type": "stream",
     "text": [
      "\u001b[0;34m[INFO]: \u001b[0mdownloading file for VAC 'gz3d'\n",
      "Progress: 100% 1/1 [00:05<00:00,  5.01s/files, n_files=1, n_streams=1]\n"
     ]
    },
    {
     "name": "stdout",
     "output_type": "stream",
     "text": [
      "SDSS_ACCESS> Done!\n"
     ]
    },
    {
     "name": "stderr",
     "output_type": "stream",
     "text": [
      "Progress: 100% 1/1 [00:10<00:00, 10.01s/files, n_files=1, n_streams=1]\n"
     ]
    },
    {
     "name": "stdout",
     "output_type": "stream",
     "text": [
      "SDSS_ACCESS> Done!\n"
     ]
    },
    {
     "name": "stderr",
     "output_type": "stream",
     "text": [
      "\u001b[0;34m[INFO]: \u001b[0mdownloading file for VAC 'gz3d'\n",
      "Progress: 100% 1/1 [00:05<00:00,  5.01s/files, n_files=1, n_streams=1]\n"
     ]
    },
    {
     "name": "stdout",
     "output_type": "stream",
     "text": [
      "SDSS_ACCESS> Done!\n"
     ]
    },
    {
     "name": "stderr",
     "output_type": "stream",
     "text": [
      "Progress: 100% 1/1 [00:05<00:00,  5.01s/files, n_files=1, n_streams=1]\n"
     ]
    },
    {
     "name": "stdout",
     "output_type": "stream",
     "text": [
      "SDSS_ACCESS> Done!\n"
     ]
    },
    {
     "name": "stderr",
     "output_type": "stream",
     "text": [
      "\u001b[0;34m[INFO]: \u001b[0mdownloading file for VAC 'gz3d'\n",
      "Progress: 100% 1/1 [00:05<00:00,  5.25s/files, n_files=1, n_streams=1]\n"
     ]
    },
    {
     "name": "stdout",
     "output_type": "stream",
     "text": [
      "SDSS_ACCESS> Done!\n"
     ]
    },
    {
     "name": "stderr",
     "output_type": "stream",
     "text": [
      "Progress: 100% 1/1 [00:05<00:00,  5.03s/files, n_files=1, n_streams=1]\n"
     ]
    },
    {
     "name": "stdout",
     "output_type": "stream",
     "text": [
      "SDSS_ACCESS> Done!\n"
     ]
    },
    {
     "name": "stderr",
     "output_type": "stream",
     "text": [
      "\u001b[0;34m[INFO]: \u001b[0mdownloading file for VAC 'gz3d'\n",
      "Progress: 100% 1/1 [00:05<00:00,  5.01s/files, n_files=1, n_streams=1]\n"
     ]
    },
    {
     "name": "stdout",
     "output_type": "stream",
     "text": [
      "SDSS_ACCESS> Done!\n"
     ]
    },
    {
     "name": "stderr",
     "output_type": "stream",
     "text": [
      "Progress: 100% 1/1 [00:10<00:00, 10.02s/files, n_files=1, n_streams=1]\n"
     ]
    },
    {
     "name": "stdout",
     "output_type": "stream",
     "text": [
      "SDSS_ACCESS> Done!\n"
     ]
    },
    {
     "name": "stderr",
     "output_type": "stream",
     "text": [
      "\u001b[0;34m[INFO]: \u001b[0mdownloading file for VAC 'gz3d'\n",
      "Progress: 100% 1/1 [00:05<00:00,  5.01s/files, n_files=1, n_streams=1]\n"
     ]
    },
    {
     "name": "stdout",
     "output_type": "stream",
     "text": [
      "SDSS_ACCESS> Done!\n"
     ]
    },
    {
     "name": "stderr",
     "output_type": "stream",
     "text": [
      "Progress: 100% 1/1 [00:05<00:00,  5.01s/files, n_files=1, n_streams=1]\n"
     ]
    },
    {
     "name": "stdout",
     "output_type": "stream",
     "text": [
      "SDSS_ACCESS> Done!\n"
     ]
    },
    {
     "name": "stderr",
     "output_type": "stream",
     "text": [
      "\u001b[0;34m[INFO]: \u001b[0mdownloading file for VAC 'gz3d'\n",
      "Progress: 100% 1/1 [00:05<00:00,  5.01s/files, n_files=1, n_streams=1]\n"
     ]
    },
    {
     "name": "stdout",
     "output_type": "stream",
     "text": [
      "SDSS_ACCESS> Done!\n"
     ]
    }
   ],
   "source": [
    "mass_ma_list=[]\n",
    "mass_mi_list=[]\n",
    "rad_ma_list=[]\n",
    "rad_mi_list=[]\n",
    "\n",
    "file = open('arm_vs_interarm.txt','a')\n",
    "\n",
    "for i in range(237,248):\n",
    "    mass_ma,radius_ma,mass_mi,radius_mi= arm_selector(mangaplifu[i],plates[i],ifudsgn[i])\n",
    "    f=((10**np.log10(mass_ma))-(10**np.log10(mass_mi)))/(10**np.log10(mass_mi))\n",
    "    file.write(str(mangaplifu[i]))\n",
    "    file.write('\\n')\n",
    "    file.write('Arm Mass=')\n",
    "    file.write(str(mass_ma))\n",
    "    file.write('\\n')\n",
    "    file.write('Radius=')\n",
    "    file.write(str(radius_ma))\n",
    "    file.write('\\n')\n",
    "    file.write('Interarm Mass=')\n",
    "    file.write(str(mass_mi))\n",
    "    file.write('\\n')\n",
    "    file.write('Excess in Mass=')\n",
    "    file.write(str(f))\n",
    "    file.write('\\n')\n",
    "    file.write('\\n')\n",
    "file.close()\n",
    "#Getting the average mass and radius values and the excess in mass values"
   ]
  },
  {
   "cell_type": "code",
   "execution_count": null,
   "metadata": {},
   "outputs": [],
   "source": []
  }
 ],
 "metadata": {
  "kernelspec": {
   "display_name": "Python 3.8 (py38)",
   "language": "python",
   "name": "py38"
  },
  "language_info": {
   "codemirror_mode": {
    "name": "ipython",
    "version": 3
   },
   "file_extension": ".py",
   "mimetype": "text/x-python",
   "name": "python",
   "nbconvert_exporter": "python",
   "pygments_lexer": "ipython3",
   "version": "3.8.5"
  }
 },
 "nbformat": 4,
 "nbformat_minor": 4
}
